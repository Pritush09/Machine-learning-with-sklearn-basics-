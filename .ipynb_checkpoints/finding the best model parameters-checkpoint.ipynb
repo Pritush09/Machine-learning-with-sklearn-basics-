{
 "cells": [
  {
   "cell_type": "code",
   "execution_count": 1,
   "id": "bc983e52",
   "metadata": {},
   "outputs": [],
   "source": [
    "# how the k fold cross validation used to find the optimal searching parameter \n",
    "# how can this process be more efficient \n",
    "#how do u search for multiple parameter at once \n",
    "# what do u do with those tunning parameter before making prediction \n",
    "# how can be computational expence be reduced for this"
   ]
  },
  {
   "cell_type": "code",
   "execution_count": 3,
   "id": "383f4bb4",
   "metadata": {},
   "outputs": [],
   "source": [
    "# reveiew of k fold cross validaiton \n",
    "## dataset is converted into k folds of equal size\n",
    "## each fold act as testing set one time and as a training set k-1 time \n",
    "## average testing performance is used as the estimate for the outsample data\n",
    "\n",
    "# Benefits \n",
    "## more reliable estimate on the out of the sample data \n",
    "## can be used for selecting tuning parameter , choosing between the models and selecting the features\n",
    "\n",
    "# but it is computationaly expensive"
   ]
  },
  {
   "cell_type": "code",
   "execution_count": 4,
   "id": "e3572372",
   "metadata": {},
   "outputs": [],
   "source": [
    "from sklearn.datasets import load_iris\n",
    "from sklearn.neighbors import KNeighborsClassifier\n",
    "from sklearn.model_selection import cross_val_score\n",
    "import matplotlib.pyplot as plt \n",
    "%matplotlib inline"
   ]
  },
  {
   "cell_type": "code",
   "execution_count": 6,
   "id": "a1143137",
   "metadata": {},
   "outputs": [],
   "source": [
    "iris = load_iris()\n",
    "\n",
    "X = iris.data\n",
    "Y = iris.target "
   ]
  },
  {
   "cell_type": "code",
   "execution_count": 10,
   "id": "057e23e9",
   "metadata": {},
   "outputs": [
    {
     "data": {
      "text/plain": [
       "array([1.        , 0.93333333, 1.        , 1.        , 0.86666667,\n",
       "       0.93333333, 0.93333333, 1.        , 1.        , 1.        ])"
      ]
     },
     "execution_count": 10,
     "metadata": {},
     "output_type": "execute_result"
    }
   ],
   "source": [
    "knn = KNeighborsClassifier()\n",
    "scoreforonlyonecrossval = cross_val_score(knn,X,Y,cv=10,scoring='accuracy') # here the evaluation matrix is accuracy \n",
    "# this return the testing acccuracy for each of the folds in the cross validation\n",
    "scoreforonlyonecrossval"
   ]
  },
  {
   "cell_type": "code",
   "execution_count": 11,
   "id": "edd39ede",
   "metadata": {},
   "outputs": [
    {
     "data": {
      "text/plain": [
       "0.9666666666666668"
      ]
     },
     "execution_count": 11,
     "metadata": {},
     "output_type": "execute_result"
    }
   ],
   "source": [
    "scoreforonlyonecrossval.mean()"
   ]
  },
  {
   "cell_type": "code",
   "execution_count": 15,
   "id": "d4277ad1",
   "metadata": {},
   "outputs": [
    {
     "name": "stdout",
     "output_type": "stream",
     "text": [
      "[0.9666666666666668, 0.9666666666666668, 0.9666666666666668, 0.9666666666666668, 0.9666666666666668, 0.9666666666666668, 0.9666666666666668, 0.9666666666666668, 0.9666666666666668, 0.9666666666666668, 0.9666666666666668, 0.9666666666666668, 0.9666666666666668, 0.9666666666666668, 0.9666666666666668, 0.9666666666666668, 0.9666666666666668, 0.9666666666666668, 0.9666666666666668, 0.9666666666666668, 0.9666666666666668, 0.9666666666666668, 0.9666666666666668, 0.9666666666666668, 0.9666666666666668, 0.9666666666666668, 0.9666666666666668, 0.9666666666666668, 0.9666666666666668, 0.9666666666666668]\n"
     ]
    }
   ],
   "source": [
    "# if we want to repeat the process for varities of k values\n",
    "k_range = range(1,31)\n",
    "k_scores = []\n",
    "for i in k_range:\n",
    "    kn = KNeighborsClassifier()\n",
    "    scores = cross_val_score(kn,X,Y,cv=10,scoring=\"accuracy\")\n",
    "    k_scores.append(scores.mean())\n",
    "print(k_scores)"
   ]
  },
  {
   "cell_type": "code",
   "execution_count": 16,
   "id": "9ae3d34d",
   "metadata": {},
   "outputs": [
    {
     "data": {
      "text/plain": [
       "Text(0, 0.5, 'cross validate accuracy')"
      ]
     },
     "execution_count": 16,
     "metadata": {},
     "output_type": "execute_result"
    },
    {
     "data": {
      "image/png": "[encoded data removed]",
      "text/plain": [
       "<Figure size 432x288 with 1 Axes>"
      ]
     },
     "metadata": {
      "needs_background": "light"
     },
     "output_type": "display_data"
    }
   ],
   "source": [
    "plt.plot(k_range,k_scores)\n",
    "plt.xlabel(\"values for k in knn\")\n",
    "plt.ylabel(\"cross validate accuracy\")"
   ]
  },
  {
   "cell_type": "markdown",
   "id": "c68925cb",
   "metadata": {},
   "source": [
    "# more efficient parameter is GridSearchCV\n",
    "### allow us to define a grid of parameter that will be searched using the k fold cross validation "
   ]
  },
  {
   "cell_type": "code",
   "execution_count": 17,
   "id": "1d0e062c",
   "metadata": {},
   "outputs": [],
   "source": [
    "from sklearn.model_selection import GridSearchCV"
   ]
  },
  {
   "cell_type": "code",
   "execution_count": 18,
   "id": "3c15a4bc",
   "metadata": {},
   "outputs": [
    {
     "data": {
      "text/plain": [
       "{'n_neighbors': range(1, 31)}"
      ]
     },
     "execution_count": 18,
     "metadata": {},
     "output_type": "execute_result"
    }
   ],
   "source": [
    "# k_range uparse\n",
    "# yaha par param_names\n",
    "param_names = dict(n_neighbors=k_range) # these are the parameters for which we will be searching by puting\n",
    "                                             # different values\n",
    "param_names"
   ]
  },
  {
   "cell_type": "code",
   "execution_count": 25,
   "id": "0d47c809",
   "metadata": {},
   "outputs": [],
   "source": [
    "# now creating a obejt for the gridsearchcv class\n",
    "grid = GridSearchCV(knn,param_grid=param_names,cv=10,scoring=\"accuracy\") \n",
    "# this should be read in this way that this gridsearchcv object iss ready to do cross val by using 10 folds\n",
    "# onthe kneighbors classifier model and it has been defined the parameter which it have to change and \n",
    "# check for every time and using the classiffication accuracy ad the evaluation metric\n",
    "# isme data fit nahi kiye he yaha par sirf object ka parameter define kiya gaya he "
   ]
  },
  {
   "cell_type": "markdown",
   "id": "7979832c",
   "metadata": {},
   "source": [
    "# https://scikit-learn.org/stable/modules/generated/sklearn.model_selection.GridSearchCV.html"
   ]
  },
  {
   "cell_type": "code",
   "execution_count": 26,
   "id": "b82a917f",
   "metadata": {},
   "outputs": [],
   "source": [
    "#########  you can set n_jobs = -1 to run copmputation in parallel (if supported by ur computer)"
   ]
  },
  {
   "cell_type": "code",
   "execution_count": 27,
   "id": "129d07b3",
   "metadata": {},
   "outputs": [
    {
     "data": {
      "text/plain": [
       "GridSearchCV(cv=10, estimator=KNeighborsClassifier(),\n",
       "             param_grid={'n_neighbors': range(1, 31)}, scoring='accuracy')"
      ]
     },
     "execution_count": 27,
     "metadata": {},
     "output_type": "execute_result"
    }
   ],
   "source": [
    "grid.fit(X,Y) # this step may takae a while depending upon the data and the no. of parameters \n",
    "# searched and also depends upon you computer also"
   ]
  },
  {
   "cell_type": "code",
   "execution_count": 64,
   "id": "c5560149",
   "metadata": {
    "scrolled": true
   },
   "outputs": [
    {
     "data": {
      "text/plain": [
       "{'mean_fit_time': array([0.00167689, 0.00080135, 0.00080113, 0.00079999, 0.00160017,\n",
       "        0.        , 0.        , 0.        , 0.00156291, 0.00156491,\n",
       "        0.        , 0.        , 0.        , 0.        , 0.00075839,\n",
       "        0.        , 0.        , 0.        , 0.        , 0.        ,\n",
       "        0.00080023, 0.00079916, 0.00080025, 0.00079994, 0.        ,\n",
       "        0.00080078, 0.        , 0.        , 0.00080149, 0.        ]),\n",
       " 'std_fit_time': array([0.00335789, 0.00240405, 0.0024034 , 0.00239997, 0.00320034,\n",
       "        0.        , 0.        , 0.        , 0.00468872, 0.00469472,\n",
       "        0.        , 0.        , 0.        , 0.        , 0.00227516,\n",
       "        0.        , 0.        , 0.        , 0.        , 0.        ,\n",
       "        0.00240068, 0.00239747, 0.00240076, 0.00239983, 0.        ,\n",
       "        0.00240233, 0.        , 0.        , 0.00240448, 0.        ]),\n",
       " 'mean_score_time': array([0.00000000e+00, 7.99322128e-04, 7.99512863e-04, 0.00000000e+00,\n",
       "        0.00000000e+00, 1.56416893e-03, 0.00000000e+00, 0.00000000e+00,\n",
       "        7.56025314e-05, 0.00000000e+00, 1.56259537e-03, 1.56161785e-03,\n",
       "        1.56359673e-03, 1.56278610e-03, 0.00000000e+00, 7.99918175e-04,\n",
       "        7.99965858e-04, 7.99965858e-04, 8.00061226e-04, 7.99918175e-04,\n",
       "        7.99942017e-04, 0.00000000e+00, 0.00000000e+00, 0.00000000e+00,\n",
       "        7.99393654e-04, 8.00490379e-04, 7.98487663e-04, 0.00000000e+00,\n",
       "        7.98773766e-04, 7.99942017e-04]),\n",
       " 'std_score_time': array([0.        , 0.00239797, 0.00239854, 0.        , 0.        ,\n",
       "        0.00469251, 0.        , 0.        , 0.00022681, 0.        ,\n",
       "        0.00468779, 0.00468485, 0.00469079, 0.00468836, 0.        ,\n",
       "        0.00239975, 0.0023999 , 0.0023999 , 0.00240018, 0.00239975,\n",
       "        0.00239983, 0.        , 0.        , 0.        , 0.00239818,\n",
       "        0.00240147, 0.00239546, 0.        , 0.00239632, 0.00239983]),\n",
       " 'param_n_neighbors': masked_array(data=[1, 2, 3, 4, 5, 6, 7, 8, 9, 10, 11, 12, 13, 14, 15, 16,\n",
       "                    17, 18, 19, 20, 21, 22, 23, 24, 25, 26, 27, 28, 29, 30],\n",
       "              mask=[False, False, False, False, False, False, False, False,\n",
       "                    False, False, False, False, False, False, False, False,\n",
       "                    False, False, False, False, False, False, False, False,\n",
       "                    False, False, False, False, False, False],\n",
       "        fill_value='?',\n",
       "             dtype=object),\n",
       " 'params': [{'n_neighbors': 1},\n",
       "  {'n_neighbors': 2},\n",
       "  {'n_neighbors': 3},\n",
       "  {'n_neighbors': 4},\n",
       "  {'n_neighbors': 5},\n",
       "  {'n_neighbors': 6},\n",
       "  {'n_neighbors': 7},\n",
       "  {'n_neighbors': 8},\n",
       "  {'n_neighbors': 9},\n",
       "  {'n_neighbors': 10},\n",
       "  {'n_neighbors': 11},\n",
       "  {'n_neighbors': 12},\n",
       "  {'n_neighbors': 13},\n",
       "  {'n_neighbors': 14},\n",
       "  {'n_neighbors': 15},\n",
       "  {'n_neighbors': 16},\n",
       "  {'n_neighbors': 17},\n",
       "  {'n_neighbors': 18},\n",
       "  {'n_neighbors': 19},\n",
       "  {'n_neighbors': 20},\n",
       "  {'n_neighbors': 21},\n",
       "  {'n_neighbors': 22},\n",
       "  {'n_neighbors': 23},\n",
       "  {'n_neighbors': 24},\n",
       "  {'n_neighbors': 25},\n",
       "  {'n_neighbors': 26},\n",
       "  {'n_neighbors': 27},\n",
       "  {'n_neighbors': 28},\n",
       "  {'n_neighbors': 29},\n",
       "  {'n_neighbors': 30}],\n",
       " 'split0_test_score': array([1.        , 1.        , 1.        , 1.        , 1.        ,\n",
       "        1.        , 1.        , 1.        , 1.        , 1.        ,\n",
       "        1.        , 1.        , 1.        , 1.        , 0.93333333,\n",
       "        1.        , 0.93333333, 1.        , 0.93333333, 1.        ,\n",
       "        0.93333333, 0.93333333, 0.93333333, 0.93333333, 0.93333333,\n",
       "        0.93333333, 0.93333333, 0.93333333, 0.93333333, 0.93333333]),\n",
       " 'split1_test_score': array([0.93333333, 0.93333333, 0.93333333, 0.93333333, 0.93333333,\n",
       "        0.93333333, 0.93333333, 0.93333333, 0.93333333, 0.93333333,\n",
       "        0.93333333, 0.93333333, 0.93333333, 0.93333333, 0.93333333,\n",
       "        0.93333333, 0.93333333, 0.93333333, 0.93333333, 0.93333333,\n",
       "        0.93333333, 0.93333333, 0.93333333, 0.93333333, 0.93333333,\n",
       "        0.93333333, 0.93333333, 0.93333333, 0.93333333, 0.93333333]),\n",
       " 'split2_test_score': array([1., 1., 1., 1., 1., 1., 1., 1., 1., 1., 1., 1., 1., 1., 1., 1., 1.,\n",
       "        1., 1., 1., 1., 1., 1., 1., 1., 1., 1., 1., 1., 1.]),\n",
       " 'split3_test_score': array([0.93333333, 0.93333333, 0.93333333, 0.93333333, 1.        ,\n",
       "        1.        , 1.        , 1.        , 1.        , 1.        ,\n",
       "        1.        , 1.        , 1.        , 1.        , 1.        ,\n",
       "        1.        , 1.        , 1.        , 1.        , 1.        ,\n",
       "        1.        , 1.        , 1.        , 1.        , 1.        ,\n",
       "        1.        , 1.        , 0.93333333, 0.93333333, 0.93333333]),\n",
       " 'split4_test_score': array([0.86666667, 0.86666667, 0.86666667, 0.86666667, 0.86666667,\n",
       "        0.86666667, 0.86666667, 1.        , 1.        , 1.        ,\n",
       "        1.        , 1.        , 1.        , 1.        , 1.        ,\n",
       "        1.        , 1.        , 1.        , 1.        , 1.        ,\n",
       "        0.93333333, 1.        , 1.        , 1.        , 1.        ,\n",
       "        1.        , 1.        , 1.        , 1.        , 1.        ]),\n",
       " 'split5_test_score': array([1.        , 1.        , 1.        , 1.        , 0.93333333,\n",
       "        0.93333333, 0.93333333, 0.86666667, 0.93333333, 0.86666667,\n",
       "        0.86666667, 0.93333333, 0.93333333, 0.86666667, 0.93333333,\n",
       "        0.93333333, 0.93333333, 0.93333333, 0.93333333, 0.93333333,\n",
       "        0.93333333, 0.93333333, 0.93333333, 0.86666667, 0.93333333,\n",
       "        0.86666667, 0.86666667, 0.86666667, 0.86666667, 0.86666667]),\n",
       " 'split6_test_score': array([0.86666667, 0.86666667, 0.93333333, 0.93333333, 0.93333333,\n",
       "        0.93333333, 0.93333333, 0.93333333, 0.93333333, 0.93333333,\n",
       "        0.93333333, 0.93333333, 0.93333333, 0.93333333, 0.93333333,\n",
       "        0.93333333, 0.93333333, 0.93333333, 0.93333333, 0.93333333,\n",
       "        0.93333333, 0.93333333, 0.93333333, 0.93333333, 0.93333333,\n",
       "        0.93333333, 0.93333333, 0.93333333, 0.93333333, 0.93333333]),\n",
       " 'split7_test_score': array([1.        , 0.93333333, 1.        , 1.        , 1.        ,\n",
       "        1.        , 1.        , 0.93333333, 0.93333333, 0.93333333,\n",
       "        0.93333333, 0.93333333, 1.        , 1.        , 1.        ,\n",
       "        0.93333333, 1.        , 1.        , 1.        , 1.        ,\n",
       "        1.        , 0.93333333, 1.        , 0.93333333, 0.93333333,\n",
       "        0.93333333, 1.        , 0.93333333, 0.93333333, 0.93333333]),\n",
       " 'split8_test_score': array([1., 1., 1., 1., 1., 1., 1., 1., 1., 1., 1., 1., 1., 1., 1., 1., 1.,\n",
       "        1., 1., 1., 1., 1., 1., 1., 1., 1., 1., 1., 1., 1.]),\n",
       " 'split9_test_score': array([1., 1., 1., 1., 1., 1., 1., 1., 1., 1., 1., 1., 1., 1., 1., 1., 1.,\n",
       "        1., 1., 1., 1., 1., 1., 1., 1., 1., 1., 1., 1., 1.]),\n",
       " 'mean_test_score': array([0.96      , 0.95333333, 0.96666667, 0.96666667, 0.96666667,\n",
       "        0.96666667, 0.96666667, 0.96666667, 0.97333333, 0.96666667,\n",
       "        0.96666667, 0.97333333, 0.98      , 0.97333333, 0.97333333,\n",
       "        0.97333333, 0.97333333, 0.98      , 0.97333333, 0.98      ,\n",
       "        0.96666667, 0.96666667, 0.97333333, 0.96      , 0.96666667,\n",
       "        0.96      , 0.96666667, 0.95333333, 0.95333333, 0.95333333]),\n",
       " 'std_test_score': array([0.05333333, 0.05206833, 0.04472136, 0.04472136, 0.04472136,\n",
       "        0.04472136, 0.04472136, 0.04472136, 0.03265986, 0.04472136,\n",
       "        0.04472136, 0.03265986, 0.0305505 , 0.04422166, 0.03265986,\n",
       "        0.03265986, 0.03265986, 0.0305505 , 0.03265986, 0.0305505 ,\n",
       "        0.03333333, 0.03333333, 0.03265986, 0.04422166, 0.03333333,\n",
       "        0.04422166, 0.04472136, 0.04268749, 0.04268749, 0.04268749]),\n",
       " 'rank_test_score': array([24, 27, 18, 18, 12, 12, 12, 12,  4, 12, 12,  4,  1,  4,  4,  4,  4,\n",
       "         1,  4,  1, 18, 18,  4, 24, 18, 24, 18, 27, 27, 27])}"
      ]
     },
     "execution_count": 64,
     "metadata": {},
     "output_type": "execute_result"
    }
   ],
   "source": [
    "grid.cv_results_  # this is to remember "
   ]
  },
  {
   "cell_type": "code",
   "execution_count": 97,
   "id": "aba89bbb",
   "metadata": {},
   "outputs": [
    {
     "name": "stdout",
     "output_type": "stream",
     "text": [
      "19\n"
     ]
    },
    {
     "data": {
      "text/plain": [
       "[0.96,\n",
       " 0.9533333333333334,\n",
       " 0.9666666666666666,\n",
       " 0.9666666666666666,\n",
       " 0.9666666666666668,\n",
       " 0.9666666666666668,\n",
       " 0.9666666666666668,\n",
       " 0.9666666666666668,\n",
       " 0.9733333333333334,\n",
       " 0.9666666666666668,\n",
       " 0.9666666666666668,\n",
       " 0.9733333333333334,\n",
       " 0.9800000000000001,\n",
       " 0.9733333333333334,\n",
       " 0.9733333333333334,\n",
       " 0.9733333333333334,\n",
       " 0.9733333333333334,\n",
       " 0.9800000000000001,\n",
       " 0.9733333333333334,\n",
       " 0.9800000000000001,\n",
       " 0.9666666666666666,\n",
       " 0.9666666666666666,\n",
       " 0.9733333333333334,\n",
       " 0.96,\n",
       " 0.9666666666666666,\n",
       " 0.96,\n",
       " 0.9666666666666666,\n",
       " 0.9533333333333334,\n",
       " 0.9533333333333334,\n",
       " 0.9533333333333334]"
      ]
     },
     "execution_count": 97,
     "metadata": {},
     "output_type": "execute_result"
    }
   ],
   "source": [
    "mean_scores = [i for i in grid.cv_results_]\n",
    "print(len(mean_scores))\n",
    "mean_sco = list(grid.cv_results_[mean_scores[16]])\n",
    "mean_sco\n",
    "# iske jagah sirf ye bhi kar sakte the ( grid.cv_results_['mean_test_score'] )"
   ]
  },
  {
   "cell_type": "code",
   "execution_count": 99,
   "id": "55274fee",
   "metadata": {},
   "outputs": [
    {
     "data": {
      "text/plain": [
       "Text(0, 0.5, 'Cross validated accuracy')"
      ]
     },
     "execution_count": 99,
     "metadata": {},
     "output_type": "execute_result"
    },
    {
     "data": {
      "image/png": "[encoded data removed]",
      "text/plain": [
       "<Figure size 432x288 with 1 Axes>"
      ]
     },
     "metadata": {
      "needs_background": "light"
     },
     "output_type": "display_data"
    }
   ],
   "source": [
    "plt.plot(k_range,mean_sco)\n",
    "plt.xlabel(\"value for k for knn\")\n",
    "plt.ylabel(\"Cross validated accuracy\")"
   ]
  },
  {
   "cell_type": "code",
   "execution_count": 61,
   "id": "91cdfbf7",
   "metadata": {},
   "outputs": [
    {
     "name": "stdout",
     "output_type": "stream",
     "text": [
      "{'n_neighbors': 13}\n",
      "0.9800000000000001\n",
      "KNeighborsClassifier(n_neighbors=13)\n",
      "\n",
      "\n",
      "[0.96       0.95333333 0.96666667 0.96666667 0.96666667 0.96666667\n",
      " 0.96666667 0.96666667 0.97333333 0.96666667 0.96666667 0.97333333\n",
      " 0.98       0.97333333 0.97333333 0.97333333 0.97333333 0.98\n",
      " 0.97333333 0.98       0.96666667 0.96666667 0.97333333 0.96\n",
      " 0.96666667 0.96       0.96666667 0.95333333 0.95333333 0.95333333]\n",
      "\n",
      "\n",
      "[0.05333333 0.05206833 0.04472136 0.04472136 0.04472136 0.04472136\n",
      " 0.04472136 0.04472136 0.03265986 0.04472136 0.04472136 0.03265986\n",
      " 0.0305505  0.04422166 0.03265986 0.03265986 0.03265986 0.0305505\n",
      " 0.03265986 0.0305505  0.03333333 0.03333333 0.03265986 0.04422166\n",
      " 0.03333333 0.04422166 0.04472136 0.04268749 0.04268749 0.04268749]\n"
     ]
    }
   ],
   "source": [
    "print(grid.best_params_)\n",
    "print(grid.best_score_)\n",
    "print(grid.best_estimator_)\n",
    "print(\"\\n\")\n",
    "print(grid.cv_results_['mean_test_score'])\n",
    "print(\"\\n\")\n",
    "print(grid.cv_results_['std_test_score'])"
   ]
  },
  {
   "cell_type": "markdown",
   "id": "f2f446dd",
   "metadata": {},
   "source": [
    "# searching multiple parameters simultaneouly \n",
    "### mainly becz the best performance can be only achived when niether of the parameter are in there default values                \n",
    "\n",
    "## Ex is that decisionTreeclassifier max_depth and min_sample_leaf"
   ]
  },
  {
   "cell_type": "code",
   "execution_count": 101,
   "id": "68fb235a",
   "metadata": {},
   "outputs": [],
   "source": [
    "# now creating the values for testing\n",
    "# k_range from above \n",
    "weght_options = ['uniform','distance']"
   ]
  },
  {
   "cell_type": "code",
   "execution_count": 102,
   "id": "a2ebc433",
   "metadata": {},
   "outputs": [],
   "source": [
    "prameters_grid = dict(n_neighbors=k_range,weights= weght_options)"
   ]
  },
  {
   "cell_type": "code",
   "execution_count": 103,
   "id": "13ae0c12",
   "metadata": {},
   "outputs": [
    {
     "data": {
      "text/plain": [
       "GridSearchCV(cv=10, estimator=KNeighborsClassifier(),\n",
       "             param_grid={'n_neighbors': range(1, 31),\n",
       "                         'weights': ['uniform', 'distance']},\n",
       "             scoring='accuracy')"
      ]
     },
     "execution_count": 103,
     "metadata": {},
     "output_type": "execute_result"
    }
   ],
   "source": [
    "# instantiate and fit the grid\n",
    "grid_simultanous = GridSearchCV(knn,param_grid=prameters_grid,cv=10,scoring=\"accuracy\")\n",
    "grid_simultanous.fit(X,Y)"
   ]
  },
  {
   "cell_type": "code",
   "execution_count": 105,
   "id": "846ed941",
   "metadata": {},
   "outputs": [
    {
     "name": "stdout",
     "output_type": "stream",
     "text": [
      "{'n_neighbors': 13, 'weights': 'uniform'}\n",
      "0.9800000000000001\n",
      "KNeighborsClassifier(n_neighbors=13)\n"
     ]
    }
   ],
   "source": [
    "print(grid_simultanous.best_params_)\n",
    "print(grid_simultanous.best_score_)\n",
    "print(grid_simultanous.best_estimator_)"
   ]
  },
  {
   "cell_type": "markdown",
   "id": "1814b9e9",
   "metadata": {},
   "source": [
    "# after finding the best parameters train the whole data onthe basis of that parametrs so we dont waste the\n",
    "# valuable data from which our model can learn from"
   ]
  },
  {
   "cell_type": "code",
   "execution_count": 110,
   "id": "3e4082a3",
   "metadata": {},
   "outputs": [
    {
     "data": {
      "text/plain": [
       "KNeighborsClassifier(n_neighbors=13)"
      ]
     },
     "execution_count": 110,
     "metadata": {},
     "output_type": "execute_result"
    }
   ],
   "source": [
    "knn_after_finding_the_best_param = KNeighborsClassifier(n_neighbors=13,weights='uniform')\n",
    "knn_after_finding_the_best_param.fit(X,Y)"
   ]
  },
  {
   "cell_type": "code",
   "execution_count": 111,
   "id": "175fa359",
   "metadata": {},
   "outputs": [
    {
     "data": {
      "text/plain": [
       "array([1])"
      ]
     },
     "execution_count": 111,
     "metadata": {},
     "output_type": "execute_result"
    }
   ],
   "source": [
    "knn_after_finding_the_best_param.predict([[3,5,4,2]])"
   ]
  },
  {
   "cell_type": "code",
   "execution_count": 112,
   "id": "c66b8147",
   "metadata": {},
   "outputs": [
    {
     "data": {
      "text/plain": [
       "array([1])"
      ]
     },
     "execution_count": 112,
     "metadata": {},
     "output_type": "execute_result"
    }
   ],
   "source": [
    "# the above is not required as the grid function does the work for us\n",
    "grid_simultanous.predict([[3,5,4,2]])"
   ]
  },
  {
   "cell_type": "markdown",
   "id": "d1c37a68",
   "metadata": {},
   "source": [
    "# Reducing the computational expense using the RandomizedSearchCV\n",
    "### it searches a subset of the parameter not all the parametre as it was done in the grid one and u control the computational budget "
   ]
  },
  {
   "cell_type": "code",
   "execution_count": 113,
   "id": "06c6c1ff",
   "metadata": {},
   "outputs": [],
   "source": [
    "from sklearn.model_selection import RandomizedSearchCV"
   ]
  },
  {
   "cell_type": "code",
   "execution_count": 114,
   "id": "46c2107e",
   "metadata": {},
   "outputs": [],
   "source": [
    "param_dist =  dict(n_neighbors=k_range,weights= weght_options)"
   ]
  },
  {
   "cell_type": "code",
   "execution_count": 115,
   "id": "81e5cfb9",
   "metadata": {},
   "outputs": [],
   "source": [
    "# here imppportant to specify a continuous distribution (rather than a list of values) for any continuous parameter"
   ]
  },
  {
   "cell_type": "code",
   "execution_count": 116,
   "id": "732cae04",
   "metadata": {},
   "outputs": [],
   "source": [
    "rand = RandomizedSearchCV(knn,param_dist,cv=10,scoring='accuracy',n_iter=10,random_state=5)\n",
    "# n_iter gives how much random combination it will try"
   ]
  },
  {
   "cell_type": "code",
   "execution_count": 117,
   "id": "52fa42fa",
   "metadata": {},
   "outputs": [],
   "source": [
    "# the parameters here are discrete as this is a classification problem \n",
    "# but if ur parameter is a continuous ones like a regulaisation parameter for a regression model \n",
    "# it is important to specify a continuous distribution rather than a list of possibble values \n",
    "# so that the randomisedcv model can perforn more fine grained search"
   ]
  },
  {
   "cell_type": "code",
   "execution_count": 119,
   "id": "c859a0fc",
   "metadata": {},
   "outputs": [
    {
     "data": {
      "text/plain": [
       "RandomizedSearchCV(cv=10, estimator=KNeighborsClassifier(),\n",
       "                   param_distributions={'n_neighbors': range(1, 31),\n",
       "                                        'weights': ['uniform', 'distance']},\n",
       "                   random_state=5, scoring='accuracy')"
      ]
     },
     "execution_count": 119,
     "metadata": {},
     "output_type": "execute_result"
    }
   ],
   "source": [
    "rand.fit(X,Y)\n"
   ]
  },
  {
   "cell_type": "code",
   "execution_count": 121,
   "id": "a8fcb6cc",
   "metadata": {},
   "outputs": [
    {
     "data": {
      "text/plain": [
       "[{'weights': 'distance', 'n_neighbors': 16},\n",
       " {'weights': 'uniform', 'n_neighbors': 22},\n",
       " {'weights': 'uniform', 'n_neighbors': 18},\n",
       " {'weights': 'uniform', 'n_neighbors': 27},\n",
       " {'weights': 'uniform', 'n_neighbors': 29},\n",
       " {'weights': 'distance', 'n_neighbors': 10},\n",
       " {'weights': 'distance', 'n_neighbors': 22},\n",
       " {'weights': 'uniform', 'n_neighbors': 14},\n",
       " {'weights': 'distance', 'n_neighbors': 12},\n",
       " {'weights': 'uniform', 'n_neighbors': 15}]"
      ]
     },
     "execution_count": 121,
     "metadata": {},
     "output_type": "execute_result"
    }
   ],
   "source": [
    "rand.cv_results_['params'] # here we can see it has only perform for 10 observations from 1 to 30"
   ]
  },
  {
   "cell_type": "code",
   "execution_count": 122,
   "id": "85d7aa9a",
   "metadata": {},
   "outputs": [
    {
     "name": "stdout",
     "output_type": "stream",
     "text": [
      "{'weights': 'uniform', 'n_neighbors': 18}\n",
      "0.9800000000000001\n",
      "KNeighborsClassifier(n_neighbors=18)\n"
     ]
    }
   ],
   "source": [
    "print(rand.best_params_)\n",
    "print(rand.best_score_)\n",
    "print(rand.best_estimator_)"
   ]
  },
  {
   "cell_type": "code",
   "execution_count": 124,
   "id": "ccd6de02",
   "metadata": {},
   "outputs": [
    {
     "name": "stdout",
     "output_type": "stream",
     "text": [
      "[0.98, 0.98, 0.98, 0.98, 0.98, 0.98, 0.98, 0.98, 0.98, 0.98, 0.98, 0.98, 0.98, 0.98, 0.973, 0.98, 0.973, 0.98, 0.98, 0.98]\n"
     ]
    }
   ],
   "source": [
    "# run RandomizedSearchCV 20 times (with n_iter=10) and record the best score\n",
    "best_scores = []\n",
    "for _ in range(20):\n",
    "    rand = RandomizedSearchCV(knn, param_dist, cv=10, scoring='accuracy', n_iter=10)\n",
    "    rand.fit(X, Y)\n",
    "    best_scores.append(round(rand.best_score_, 3))\n",
    "print(best_scores)"
   ]
  },
  {
   "cell_type": "code",
   "execution_count": null,
   "id": "da45fa29",
   "metadata": {},
   "outputs": [],
   "source": []
  }
 ],
 "metadata": {
  "kernelspec": {
   "display_name": "Python 3 (ipykernel)",
   "language": "python",
   "name": "python3"
  },
  "language_info": {
   "codemirror_mode": {
    "name": "ipython",
    "version": 3
   },
   "file_extension": ".py",
   "mimetype": "text/x-python",
   "name": "python",
   "nbconvert_exporter": "python",
   "pygments_lexer": "ipython3",
   "version": "3.10.0"
  }
 },
 "nbformat": 4,
 "nbformat_minor": 5
}
