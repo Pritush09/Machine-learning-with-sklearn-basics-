{
 "cells": [
  {
   "cell_type": "code",
   "execution_count": 1,
   "id": "a8ccba03",
   "metadata": {},
   "outputs": [],
   "source": [
    "import pandas as pd\n",
    "import numpy as np"
   ]
  },
  {
   "cell_type": "markdown",
   "id": "042f4c8d",
   "metadata": {},
   "source": [
    "# points to be covered in this are \n",
    "## drawback for train test split procedure for model evalution\n",
    "## K fold cross validation overcome the drawback of it \n",
    "## how can cross validation be used for tunning parameters choosing between the models and the feature columns"
   ]
  },
  {
   "cell_type": "markdown",
   "id": "bc2160e0",
   "metadata": {},
   "source": [
    "# NEed a eay to choose between ml models \n",
    "## and main goal is to estimate likely performance on the out of sample data\n",
    "# Initial idea : Train test the same model \n",
    "## but maximizing training accuracy rewards in over complex models which do not generalises and over fit the training data"
   ]
  },
  {
   "cell_type": "markdown",
   "id": "ed93de08",
   "metadata": {},
   "source": [
    "# alterantive idea : Train Test split \n",
    "## split dataset into two spices one training the model and other for testing the model \n",
    "## testing accuracy is a better estimate then training accuracy of out of sample performance\n",
    "## But it provides a high variance since changing which observation happens to be in testing set can significantly change the testing accuracy meaning the testing accuracy can change a lot depending upon the what values are there in the testing matrices"
   ]
  },
  {
   "cell_type": "code",
   "execution_count": 2,
   "id": "18d127bc",
   "metadata": {},
   "outputs": [],
   "source": [
    "from sklearn.datasets import load_iris\n",
    "from sklearn.model_selection import train_test_split\n",
    "from sklearn.neighbors import KNeighborsClassifier\n",
    "from sklearn import metrics"
   ]
  },
  {
   "cell_type": "code",
   "execution_count": 3,
   "id": "6c4b5958",
   "metadata": {},
   "outputs": [],
   "source": [
    "iris = load_iris()\n",
    "\n",
    "X = iris.data # this are the features \n",
    "Y = iris.target  # these are responses "
   ]
  },
  {
   "cell_type": "code",
   "execution_count": 4,
   "id": "5826b77d",
   "metadata": {},
   "outputs": [
    {
     "name": "stdout",
     "output_type": "stream",
     "text": [
      "0.9736842105263158\n"
     ]
    }
   ],
   "source": [
    "X_train , X_test ,Y_train , Y_test = train_test_split(X,Y,random_state=4)# as the random state changes \n",
    "                                                                         # the output also changes out well in 2 it gives 100%\n",
    "# this is why the testing accuracy is a high variance estimate\n",
    "# check the classification accuracy of knn with k=5\n",
    "knn = KNeighborsClassifier(n_neighbors=5)\n",
    "knn.fit(X_train,Y_train)\n",
    "y_pred = knn.predict(X_test)\n",
    "print(metrics.accuracy_score(Y_test,y_pred))"
   ]
  },
  {
   "cell_type": "markdown",
   "id": "46f469ae",
   "metadata": {},
   "source": [
    "# what if we create a bunch of train_test_split calculate the testing accuracy for each and averaged the result together\n",
    "\n",
    "# this is the essence of cross validation"
   ]
  },
  {
   "cell_type": "markdown",
   "id": "fcdc2e9c",
   "metadata": {},
   "source": [
    "# steps for k-fold cross validation\n",
    "## 1. split the dataset into k equal partitions (or folds)\n",
    "## 2. use fold one as the testing set and the union of the other folds as the training set \n",
    "## 3.Calculate the testing accuracy \n",
    "## 4. repeat 2 and 3, K times using a different fold asthe testing set each time \n",
    "## 5. USe the average testing accuracy as the estimate of out of sample accuracy"
   ]
  },
  {
   "cell_type": "code",
   "execution_count": 5,
   "id": "4f3083e0",
   "metadata": {},
   "outputs": [
    {
     "name": "stdout",
     "output_type": "stream",
     "text": [
      "[ 0  1  2  3  4  5  6  7  8  9 10 11 12 13 14 15 16 17 18 19 20 21 22 23\n",
      " 24]\n"
     ]
    }
   ],
   "source": [
    "l=[]\n",
    "for i in range(25):\n",
    "    l.append(i)\n",
    "X_used_for_demonstration = np.array(l)\n",
    "print(X_used_for_demonstration)"
   ]
  },
  {
   "cell_type": "code",
   "execution_count": 6,
   "id": "e2bf03dc",
   "metadata": {},
   "outputs": [
    {
     "name": "stdout",
     "output_type": "stream",
     "text": [
      "no. of folds there are 5\n",
      "\n",
      "\n",
      "                  Training set observations                   Testing set observations\n",
      "[ 5  6  7  8  9 10 11 12 13 14 15 16 17 18 19 20 21 22 23 24]  [0 1 2 3 4]\n",
      "[ 0  1  2  3  4 10 11 12 13 14 15 16 17 18 19 20 21 22 23 24]  [5 6 7 8 9]\n",
      "[ 0  1  2  3  4  5  6  7  8  9 15 16 17 18 19 20 21 22 23 24]  [10 11 12 13 14]\n",
      "[ 0  1  2  3  4  5  6  7  8  9 10 11 12 13 14 20 21 22 23 24]  [15 16 17 18 19]\n",
      "[ 0  1  2  3  4  5  6  7  8  9 10 11 12 13 14 15 16 17 18 19]  [20 21 22 23 24]\n"
     ]
    }
   ],
   "source": [
    "# Exaaample how to split a dataset \n",
    "from sklearn.model_selection import KFold\n",
    "kf = KFold(n_splits=5,shuffle=False)   # True karoge toh no. shuffle hoga\n",
    "kf_used = kf.get_n_splits(25) # this is to just see how to split in new sklearn\n",
    "print(\"no. of folds there are \"+str(kf_used))\n",
    "print(\"\\n\")\n",
    "\n",
    "print('{:^61} {}'.format('Training set observations','Testing set observations'))\n",
    "for sett, data in kf.split(X_used_for_demonstration):\n",
    "    print(\"{}  {}\".format(sett,data))"
   ]
  },
  {
   "cell_type": "markdown",
   "id": "42827fdc",
   "metadata": {},
   "source": [
    "# 1. dataset 25 observations numbered from 0 to 24\n",
    "# 2. 5 fold cross validation thus it runs for 5 iterations\n",
    "# 3. for each iteration every observation in either of the dataset is are different \n",
    "# 4. every observstion in testing set is exactly once"
   ]
  },
  {
   "cell_type": "code",
   "execution_count": 7,
   "id": "82f36687",
   "metadata": {},
   "outputs": [],
   "source": [
    "# Benifits of K fold cross validations\n",
    "## more accurate estimate of out of sample accuracy\n",
    "## more efficient use of data as every observation is used as both in training set and the testing set \n",
    "\n",
    "# Benifits of train test split method \n",
    "## it is K time faster \n",
    "## simpler to examione the detailed result of the testing process"
   ]
  },
  {
   "cell_type": "markdown",
   "id": "984854e6",
   "metadata": {},
   "source": [
    "# Cross validation Recommendations\n",
    "## 1. K can be any no. , but k =10 is generally reccomended \n",
    "## 2. for classification problems , statified sampling is recommended for creating the folds\n",
    "### a. each response class should be represented with equal proportion in each of the k folds which means if we observe that there are 20% of ham mails in ham and spam classificastion then each set should have 20% of ham mails in them \n",
    "### b. sklearn cross_val_score function does this by default"
   ]
  },
  {
   "cell_type": "markdown",
   "id": "17369ed9",
   "metadata": {},
   "source": [
    "#  Cross Validation example parameter tuning \n",
    "## select the best tunning parameter (aka hyperparameter) fot KNN on the iris dataset"
   ]
  },
  {
   "cell_type": "code",
   "execution_count": 8,
   "id": "fc492aef",
   "metadata": {},
   "outputs": [],
   "source": [
    "from sklearn.model_selection import cross_val_score"
   ]
  },
  {
   "cell_type": "code",
   "execution_count": 9,
   "id": "5deebef4",
   "metadata": {},
   "outputs": [
    {
     "name": "stdout",
     "output_type": "stream",
     "text": [
      "[1.         0.93333333 1.         1.         0.86666667 0.93333333\n",
      " 0.93333333 1.         1.         1.        ]\n"
     ]
    }
   ],
   "source": [
    "# 10 folds cross valdation with k=5 for knn (the neighbour parameter)\n",
    "knn_for_cross_val = KNeighborsClassifier(n_neighbors=5)            # X = Feature matrix, Y = response value\n",
    "scores = cross_val_score(knn_for_cross_val,X,Y,cv=10,scoring='accuracy') \n",
    "# Args(model_object,X,Y,cv(kitna folds pe),scoring(evaluation matrix))\n",
    "# here we do not take care of spliting the data cross val score takes care of that \n",
    "print(scores)"
   ]
  },
  {
   "cell_type": "code",
   "execution_count": 12,
   "id": "9465906e",
   "metadata": {},
   "outputs": [
    {
     "name": "stdout",
     "output_type": "stream",
     "text": [
      "0.9666666666666668\n"
     ]
    }
   ],
   "source": [
    "print(scores.mean()) # this the fifth method of cross evalv"
   ]
  },
  {
   "cell_type": "code",
   "execution_count": 16,
   "id": "6403b8fc",
   "metadata": {},
   "outputs": [
    {
     "name": "stdout",
     "output_type": "stream",
     "text": [
      "[0.9666666666666668, 0.9666666666666668, 0.9666666666666668, 0.9666666666666668, 0.9666666666666668, 0.9666666666666668, 0.9666666666666668, 0.9666666666666668, 0.9666666666666668, 0.9666666666666668, 0.9666666666666668, 0.9666666666666668, 0.9666666666666668, 0.9666666666666668, 0.9666666666666668, 0.9666666666666668, 0.9666666666666668, 0.9666666666666668, 0.9666666666666668, 0.9666666666666668, 0.9666666666666668, 0.9666666666666668, 0.9666666666666668, 0.9666666666666668, 0.9666666666666668, 0.9666666666666668, 0.9666666666666668, 0.9666666666666668, 0.9666666666666668, 0.9666666666666668]\n"
     ]
    }
   ],
   "source": [
    "# serach for the optimum value of k in knn\n",
    "k_range = range(1,31)\n",
    "k_scores = []\n",
    "for k in k_range:\n",
    "    knn = KNeighborsClassifier(n_neighbors=k)\n",
    "    scores = cross_val_score(knn_for_cross_val,X,Y,cv=10,scoring = \"accuracy\")\n",
    "    k_scores.append(scores.mean())\n",
    "print(k_scores) # this would not vary here as it as inbuilt dataset and for very long years thus it gives\n",
    "# similar output  each time as it ahs been trained on it for so many times"
   ]
  },
  {
   "cell_type": "markdown",
   "id": "415d916c",
   "metadata": {},
   "source": [
    "# for knn the high Value of K gives lower complexcity model thus gives the simplest one which we require"
   ]
  },
  {
   "cell_type": "code",
   "execution_count": 17,
   "id": "a470fe6b",
   "metadata": {},
   "outputs": [
    {
     "data": {
      "text/plain": [
       "Text(0, 0.5, 'Cross Valuated Accuracy')"
      ]
     },
     "execution_count": 17,
     "metadata": {},
     "output_type": "execute_result"
    },
    {
     "data": {
      "image/png": "[encoded data removed]",
      "text/plain": [
       "<Figure size 432x288 with 1 Axes>"
      ]
     },
     "metadata": {
      "needs_background": "light"
     },
     "output_type": "display_data"
    }
   ],
   "source": [
    "import matplotlib.pyplot as plt\n",
    "%matplotlib inline\n",
    "\n",
    "# plot the value of k for knn (x axis) vs value for cross validation accuracy (y axis)\n",
    "plt.plot(k_range,k_scores)\n",
    "plt.xlabel(\"Value of K for Knn\")\n",
    "plt.ylabel(\"Cross Valuated Accuracy\")\n",
    "# in this if it has a inverted u shaped curve which we will generally observe \n",
    "# low values are less biased but high variance \n",
    "# high values are more biased but low variance \n",
    "# thus the best value is the one in the middle as it equallises both biasness and variance \n",
    "# thus gives a generalised output"
   ]
  },
  {
   "cell_type": "markdown",
   "id": "f3cac2ec",
   "metadata": {},
   "source": [
    "# Cross Validation Example Model selection \n",
    "## compare the best knn model with logistic regression on the iris dataset"
   ]
  },
  {
   "cell_type": "code",
   "execution_count": 24,
   "id": "94dc272a",
   "metadata": {},
   "outputs": [
    {
     "name": "stdout",
     "output_type": "stream",
     "text": [
      "0.9666666666666668\n"
     ]
    }
   ],
   "source": [
    "knn = KNeighborsClassifier(n_neighbors=20)\n",
    "print(cross_val_score(knn_for_cross_val,X,Y,cv=10,scoring = \"accuracy\").mean())"
   ]
  },
  {
   "cell_type": "code",
   "execution_count": 23,
   "id": "f82128ec",
   "metadata": {},
   "outputs": [
    {
     "name": "stdout",
     "output_type": "stream",
     "text": [
      "0.9733333333333334\n"
     ]
    },
    {
     "name": "stderr",
     "output_type": "stream",
     "text": [
      "C:\\Users\\mynam\\AppData\\Local\\Programs\\Python\\Python310\\lib\\site-packages\\sklearn\\linear_model\\_logistic.py:814: ConvergenceWarning: lbfgs failed to converge (status=1):\n",
      "STOP: TOTAL NO. of ITERATIONS REACHED LIMIT.\n",
      "\n",
      "Increase the number of iterations (max_iter) or scale the data as shown in:\n",
      "    https://scikit-learn.org/stable/modules/preprocessing.html\n",
      "Please also refer to the documentation for alternative solver options:\n",
      "    https://scikit-learn.org/stable/modules/linear_model.html#logistic-regression\n",
      "  n_iter_i = _check_optimize_result(\n",
      "C:\\Users\\mynam\\AppData\\Local\\Programs\\Python\\Python310\\lib\\site-packages\\sklearn\\linear_model\\_logistic.py:814: ConvergenceWarning: lbfgs failed to converge (status=1):\n",
      "STOP: TOTAL NO. of ITERATIONS REACHED LIMIT.\n",
      "\n",
      "Increase the number of iterations (max_iter) or scale the data as shown in:\n",
      "    https://scikit-learn.org/stable/modules/preprocessing.html\n",
      "Please also refer to the documentation for alternative solver options:\n",
      "    https://scikit-learn.org/stable/modules/linear_model.html#logistic-regression\n",
      "  n_iter_i = _check_optimize_result(\n",
      "C:\\Users\\mynam\\AppData\\Local\\Programs\\Python\\Python310\\lib\\site-packages\\sklearn\\linear_model\\_logistic.py:814: ConvergenceWarning: lbfgs failed to converge (status=1):\n",
      "STOP: TOTAL NO. of ITERATIONS REACHED LIMIT.\n",
      "\n",
      "Increase the number of iterations (max_iter) or scale the data as shown in:\n",
      "    https://scikit-learn.org/stable/modules/preprocessing.html\n",
      "Please also refer to the documentation for alternative solver options:\n",
      "    https://scikit-learn.org/stable/modules/linear_model.html#logistic-regression\n",
      "  n_iter_i = _check_optimize_result(\n",
      "C:\\Users\\mynam\\AppData\\Local\\Programs\\Python\\Python310\\lib\\site-packages\\sklearn\\linear_model\\_logistic.py:814: ConvergenceWarning: lbfgs failed to converge (status=1):\n",
      "STOP: TOTAL NO. of ITERATIONS REACHED LIMIT.\n",
      "\n",
      "Increase the number of iterations (max_iter) or scale the data as shown in:\n",
      "    https://scikit-learn.org/stable/modules/preprocessing.html\n",
      "Please also refer to the documentation for alternative solver options:\n",
      "    https://scikit-learn.org/stable/modules/linear_model.html#logistic-regression\n",
      "  n_iter_i = _check_optimize_result(\n",
      "C:\\Users\\mynam\\AppData\\Local\\Programs\\Python\\Python310\\lib\\site-packages\\sklearn\\linear_model\\_logistic.py:814: ConvergenceWarning: lbfgs failed to converge (status=1):\n",
      "STOP: TOTAL NO. of ITERATIONS REACHED LIMIT.\n",
      "\n",
      "Increase the number of iterations (max_iter) or scale the data as shown in:\n",
      "    https://scikit-learn.org/stable/modules/preprocessing.html\n",
      "Please also refer to the documentation for alternative solver options:\n",
      "    https://scikit-learn.org/stable/modules/linear_model.html#logistic-regression\n",
      "  n_iter_i = _check_optimize_result(\n"
     ]
    }
   ],
   "source": [
    "# 10 fold cross validation with the logistic regression \n",
    "from sklearn.linear_model import LogisticRegression\n",
    "logreg = LogisticRegression()\n",
    "print((cross_val_score(logreg,X,Y,cv=10,scoring='accuracy')).mean())"
   ]
  },
  {
   "cell_type": "markdown",
   "id": "078c1a69",
   "metadata": {},
   "source": [
    "# mean classification accuracy is a reward function which we wanna maximize but MSE is loss function means which we wanna minimize"
   ]
  },
  {
   "cell_type": "code",
   "execution_count": 25,
   "id": "7b86b3f1",
   "metadata": {},
   "outputs": [],
   "source": [
    "# run the cross_val_score on gareth dataset"
   ]
  },
  {
   "cell_type": "markdown",
   "id": "e25c4cfb",
   "metadata": {},
   "source": [
    "# Improvement of Cross Validation"
   ]
  },
  {
   "cell_type": "code",
   "execution_count": null,
   "id": "5a07dbd9",
   "metadata": {},
   "outputs": [],
   "source": []
  }
 ],
 "metadata": {
  "kernelspec": {
   "display_name": "Python 3 (ipykernel)",
   "language": "python",
   "name": "python3"
  },
  "language_info": {
   "codemirror_mode": {
    "name": "ipython",
    "version": 3
   },
   "file_extension": ".py",
   "mimetype": "text/x-python",
   "name": "python",
   "nbconvert_exporter": "python",
   "pygments_lexer": "ipython3",
   "version": "3.10.0"
  }
 },
 "nbformat": 4,
 "nbformat_minor": 5
}
